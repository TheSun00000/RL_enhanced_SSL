{
 "cells": [
  {
   "cell_type": "code",
   "execution_count": 11,
   "metadata": {},
   "outputs": [
    {
     "data": {
      "text/plain": [
       "'cpu'"
      ]
     },
     "execution_count": 11,
     "metadata": {},
     "output_type": "execute_result"
    }
   ],
   "source": [
    "import torch\n",
    "import torch.nn as nn\n",
    "import torch.nn.functional as F\n",
    "from torch.distributions import Categorical\n",
    "import torchvision\n",
    "from torchvision import transforms\n",
    "from torchvision.transforms import functional as vision_F\n",
    "\n",
    "import numpy as np\n",
    "\n",
    "from torch.utils.data import Dataset, DataLoader\n",
    "\n",
    "from torchvision.models.resnet import BasicBlock, Bottleneck, conv1x1\n",
    "\n",
    "from torch import Tensor\n",
    "from typing import Union, Type, List, Optional, Callable\n",
    "\n",
    "from utils.networks import build_resnet18\n",
    "\n",
    "import matplotlib.pyplot as plt\n",
    "from tqdm import tqdm\n",
    "\n",
    "device = 'cuda' if torch.cuda.is_available() else 'cpu'\n",
    "device = 'cpu'\n",
    "device"
   ]
  },
  {
   "cell_type": "code",
   "execution_count": 12,
   "metadata": {},
   "outputs": [],
   "source": [
    "train_dataset = torchvision.datasets.CIFAR10('dataset')\n",
    "\n",
    "class OneImageDataset(Dataset):\n",
    "    def __init__(self, size):\n",
    "        self.img = transforms.ToTensor()(train_dataset[0][0])\n",
    "        self.size = size\n",
    "\n",
    "    def __len__(self,):\n",
    "        return self.size\n",
    "    \n",
    "    def __getitem__(self, i):\n",
    "        return self.img, self.img\n",
    "\n",
    "def one_image_dataloader(num_steps, batch_size):\n",
    "\n",
    "    return DataLoader(\n",
    "        OneImageDataset(num_steps*batch_size),\n",
    "        batch_size,\n",
    "    )"
   ]
  },
  {
   "cell_type": "code",
   "execution_count": 13,
   "metadata": {},
   "outputs": [],
   "source": [
    "class DecoderRNN(nn.Module):\n",
    "    def __init__(\n",
    "            self,\n",
    "            embed_size, \n",
    "            encoder_dim, \n",
    "            decoder_dim,\n",
    "            num_transforms=4,\n",
    "            num_discrete_magnitude=11,\n",
    "            seq_length=10,\n",
    "            drop_prob=0.3\n",
    "        ):\n",
    "        super().__init__()\n",
    "        \n",
    "        #save the model param\n",
    "        self.encoder_dim = encoder_dim\n",
    "        self.decoder_dim = decoder_dim\n",
    "\n",
    "        self.num_transforms = num_transforms\n",
    "        self.num_discrete_magnitude = num_discrete_magnitude\n",
    "        self.seq_length = seq_length\n",
    "\n",
    "\n",
    "        len_action = num_transforms + num_discrete_magnitude + 1 # +1 for the first operation\n",
    "        self.action_embedding = nn.Embedding(len_action, embed_size)\n",
    "        self.branch_id_embedding = nn.Embedding(2, embed_size)\n",
    "\n",
    "        # z + branch_id_embd + prev_action_embd\n",
    "        self.rnn = nn.LSTMCell(encoder_dim + embed_size + embed_size , decoder_dim, bias=True)        \n",
    "        \n",
    "        self.fcn_transform = nn.Linear(decoder_dim,num_transforms)\n",
    "        self.fcn_magnitude = nn.Linear(decoder_dim,num_discrete_magnitude)\n",
    "\n",
    "    \n",
    "\n",
    "    def init_hidden_state(self, batch_size):\n",
    "        h = torch.zeros(batch_size, self.decoder_dim, device=device)\n",
    "        c = torch.zeros(batch_size, self.decoder_dim, device=device)\n",
    "        return h, c\n",
    "    \n",
    "\n",
    "    def lstm_forward(self, z, branch_id, prev_action, h_t, c_t, decoder):\n",
    "        branch_id_embd   = self.branch_id_embedding(branch_id)\n",
    "        prev_action_embd = self.action_embedding(prev_action)\n",
    "        input = torch.concat(\n",
    "            (z, branch_id_embd, prev_action_embd),\n",
    "            dim=-1\n",
    "        )\n",
    "        h_t, c_t = self.rnn(input, (h_t, c_t))\n",
    "        logits = decoder(h_t)\n",
    "        return h_t, c_t, logits\n",
    "\n",
    "\n",
    "    def forward(self, z1, z2, old_action_index=None):\n",
    "        \"\"\"\n",
    "        returns:\n",
    "            transform_actions_index: (batch_size, 2, seq_length)\n",
    "            magnitude_actions_index: (batch_size, 2, seq_length)\n",
    "            transform_log_p: (batch_size, 2, seq_length)\n",
    "            magnitude_log_p: (batch_size, 2, seq_length)\n",
    "        \"\"\"\n",
    "        if old_action_index is not None:\n",
    "            (old_transform_actions_index, old_magnitude_actions_index) = old_action_index\n",
    "\n",
    "        #get the seq length to iterate\n",
    "        seq_length = self.seq_length\n",
    "        batch_size = z1.size(0)\n",
    "                \n",
    "        # Initialize LSTM state\n",
    "        h_t, c_t = self.init_hidden_state(batch_size)  # (batch_size, decoder_dim)\n",
    "        \n",
    "        transform_log_p =  torch.zeros(batch_size, 2, seq_length).to(device)\n",
    "        transform_actions_index =  torch.zeros(batch_size, 2, seq_length, dtype=torch.long).to(device)\n",
    "\n",
    "        magnitude_log_p =  torch.zeros(batch_size, 2, seq_length).to(device)\n",
    "        magnitude_actions_index =  torch.zeros(batch_size, 2, seq_length, dtype=torch.long).to(device)\n",
    "\n",
    "        branch_id = torch.full((batch_size,2), 0, dtype=torch.long, device=device)\n",
    "        branch_id[:, 1] = 0\n",
    "        \n",
    "        features = [z1, z2]\n",
    "        action_index = torch.LongTensor([self.num_transforms + self.num_discrete_magnitude]).to(device)\n",
    "        action_index = action_index.repeat(batch_size)\n",
    "\n",
    "        transform_entropy = 0\n",
    "        magnitude_entropy = 0\n",
    "        \n",
    "        for branch in range(2):\n",
    "\n",
    "            z = features[branch]\n",
    "\n",
    "            for step in range(seq_length):\n",
    "                \n",
    "                h_t, c_t, logits = self.lstm_forward(\n",
    "                    z=z,\n",
    "                    branch_id=branch_id[:, branch],\n",
    "                    prev_action=action_index,\n",
    "                    h_t=h_t,\n",
    "                    c_t=c_t,\n",
    "                    decoder=self.fcn_transform\n",
    "                )\n",
    "                if old_action_index is None:\n",
    "                    action_index = Categorical(logits=logits).sample()\n",
    "                else:\n",
    "                    action_index = old_transform_actions_index[:, branch, step]\n",
    "                log_p = F.log_softmax(logits, dim=-1).gather(-1,action_index.unsqueeze(-1))\n",
    "                transform_log_p[:, branch, step] = log_p.squeeze(-1)\n",
    "                transform_actions_index[:, branch, step] = action_index\n",
    "\n",
    "\n",
    "                h_t, c_t, logits = self.lstm_forward(\n",
    "                    z=z,\n",
    "                    branch_id=branch_id[:, branch],\n",
    "                    prev_action=action_index,\n",
    "                    h_t=h_t,\n",
    "                    c_t=c_t,\n",
    "                    decoder=self.fcn_magnitude\n",
    "                )\n",
    "                if old_action_index is None:\n",
    "                    action_index = Categorical(logits=logits).sample()\n",
    "                else:\n",
    "                    action_index = old_magnitude_actions_index[:, branch, step]\n",
    "                log_p = F.log_softmax(logits, dim=-1).gather(-1,action_index.unsqueeze(-1))\n",
    "                magnitude_log_p[:, branch, step] = log_p.squeeze(-1)\n",
    "                magnitude_actions_index[:, branch, step] = action_index\n",
    "\n",
    "    \n",
    "        return (\n",
    "                (transform_actions_index, transform_log_p),\n",
    "                (magnitude_actions_index, magnitude_log_p)\n",
    "            )"
   ]
  },
  {
   "cell_type": "code",
   "execution_count": 14,
   "metadata": {},
   "outputs": [
    {
     "data": {
      "text/plain": [
       "(tensor(True), tensor(True))"
      ]
     },
     "execution_count": 14,
     "metadata": {},
     "output_type": "execute_result"
    }
   ],
   "source": [
    "encoder = build_resnet18()\n",
    "encoder.load_state_dict(torch.load('params/resnet18_contrastive.pt'))\n",
    "encoder = encoder.to(device)\n",
    "\n",
    "decoder = DecoderRNN(\n",
    "    embed_size=8,\n",
    "    encoder_dim=128,\n",
    "    decoder_dim=512,\n",
    "    num_transforms=4,\n",
    "    num_discrete_magnitude=10,\n",
    "    seq_length=5\n",
    ").to(device)\n",
    "\n",
    "img1, img2 = next(iter(one_image_dataloader(10, 16)))\n",
    "img1 = img1.to(device)\n",
    "_, z = encoder(img1)\n",
    "\n",
    "# Inference:\n",
    "transform_preds, magnitude_preds = decoder(z, z)\n",
    "transform_actions_index, transform_log_p = transform_preds\n",
    "magnitude_actions_index, magnitude_log_p = magnitude_preds\n",
    "\n",
    "# Get the proba:\n",
    "new_transform_preds, new_magnitude_preds = decoder(z, z, old_action_index=(transform_actions_index, magnitude_actions_index))\n",
    "new_transform_actions_index, new_transform_log_p = new_transform_preds\n",
    "new_magnitude_actions_index, new_magnitude_log_p = new_magnitude_preds\n",
    "\n",
    "(transform_log_p == new_transform_log_p).all(), (magnitude_log_p == new_magnitude_log_p).all()"
   ]
  },
  {
   "cell_type": "code",
   "execution_count": 15,
   "metadata": {},
   "outputs": [],
   "source": [
    "TRANSFORMS_DICT = [\n",
    "    ('brightness', vision_F.adjust_brightness, (0.1, 1.9)),\n",
    "    ('contrast', vision_F.adjust_contrast, (0.1, 1.9)),\n",
    "    ('saturation', vision_F.adjust_saturation, (0.1, 1.9)),\n",
    "    ('hue', vision_F.adjust_hue, (-0.45, 0.45)),\n",
    "]\n",
    "\n",
    "def get_transforms_list(actions_transform, actions_magnitude):\n",
    "\n",
    "    all_transform_lists = []\n",
    "    for branch in range(actions_transform.size(1)):\n",
    "        branch_transform_lists = []\n",
    "        \n",
    "        for i in range(actions_transform.size(0)):\n",
    "            transform_list = []\n",
    "\n",
    "            for s in range(actions_transform.size(2)):\n",
    "                transform_id = actions_transform[i, branch, s].item()\n",
    "                magnitude_id = actions_magnitude[i, branch, s].item()\n",
    "                func_name, func, (lower, upper) = TRANSFORMS_DICT[transform_id]\n",
    "                step = (upper - lower) / 10\n",
    "                magnitude = np.arange(start=lower, stop=upper+step, step=step)[magnitude_id]\n",
    "                transform_list.append((func_name, func, round(magnitude, 5)))\n",
    "            branch_transform_lists.append(transform_list)\n",
    "    \n",
    "        all_transform_lists.append(branch_transform_lists)\n",
    "        \n",
    "    return all_transform_lists[0], all_transform_lists[1]\n",
    "\n",
    "\n",
    "def apply_transformations(img1, transform_list):\n",
    "\n",
    "    num_samples = img1.size(0)\n",
    "    stored_imgs = torch.zeros((num_samples, 3, 32, 32))\n",
    "\n",
    "    for i in range(img1.size(0)):\n",
    "        img = img1[i]\n",
    "        for (transform_name, transform_func, magnitude) in transform_list[i]:\n",
    "            img = transform_func(img, magnitude)\n",
    "        stored_imgs[i] = img\n",
    "\n",
    "    return stored_imgs\n"
   ]
  },
  {
   "cell_type": "code",
   "execution_count": null,
   "metadata": {},
   "outputs": [],
   "source": []
  },
  {
   "cell_type": "code",
   "execution_count": 16,
   "metadata": {},
   "outputs": [],
   "source": [
    "def multi_dimensional_multinomial(x):\n",
    "    *leading_axes, last_ax = x.shape\n",
    "    x = x.reshape((-1, last_ax))\n",
    "    actions = torch.multinomial(x, 1)\n",
    "    actions = actions.reshape(leading_axes)\n",
    "    return actions\n",
    "\n",
    "\n",
    "def collect_trajectories(len_trajectory, encoder, decoder, batch_size):\n",
    "\n",
    "    assert len_trajectory % batch_size == 0\n",
    "\n",
    "    data_loader = one_image_dataloader(\n",
    "        num_steps=len_trajectory // batch_size,\n",
    "        batch_size=batch_size\n",
    "    )\n",
    "\n",
    "    encoder_dim = encoder.projector[2].out_features\n",
    "\n",
    "\n",
    "    stored_z1 = torch.zeros((len_trajectory, encoder_dim))\n",
    "    stored_z2 = torch.zeros((len_trajectory, encoder_dim))\n",
    "    stored_transform_log_p = torch.zeros((len_trajectory, 2, decoder.seq_length))\n",
    "    stored_magnitude_log_p = torch.zeros((len_trajectory, 2, decoder.seq_length))\n",
    "    stored_transform_actions_index  = torch.zeros((len_trajectory, 2, decoder.seq_length), dtype=torch.long)\n",
    "    stored_magnitude_actions_index  = torch.zeros((len_trajectory, 2, decoder.seq_length), dtype=torch.long)\n",
    "    stored_rewards = torch.zeros((len_trajectory,))\n",
    "\n",
    "    data_loader_iterator = iter(data_loader)\n",
    "    for i in range(len_trajectory // batch_size):\n",
    "    # for i in tqdm(range(len_trajectory // batch_size)):\n",
    "\n",
    "        begin, end = i*batch_size, (i+1)*batch_size\n",
    "\n",
    "        img1, img2 = next(data_loader_iterator)\n",
    "\n",
    "        img1 = img1.to(device)\n",
    "        img2 = img2.to(device)\n",
    "\n",
    "        with torch.no_grad():\n",
    "            _, z1 = encoder(img1)\n",
    "            _, z2 = encoder(img2)\n",
    "\n",
    "        with torch.no_grad():\n",
    "            transform_preds, magnitude_preds = decoder(z1, z2)\n",
    "            transform_actions_index, transform_log_p = transform_preds\n",
    "            magnitude_actions_index, magnitude_log_p = magnitude_preds\n",
    "\n",
    "\n",
    "        transforms_list_1, transforms_list_2 = get_transforms_list(transform_actions_index, magnitude_actions_index)\n",
    "        new_img1 = apply_transformations(img1, transforms_list_1)\n",
    "        new_img2 = apply_transformations(img2, transforms_list_2)\n",
    "\n",
    "        new_img1 = new_img1.to(device)\n",
    "        new_img2 = new_img2.to(device)\n",
    "        with torch.no_grad():\n",
    "            _, new_z1 = encoder(new_img1)\n",
    "            _, new_z2 = encoder(new_img2)\n",
    "        new_img1 = new_img1.to('cpu')\n",
    "        new_img2 = new_img2.to('cpu')\n",
    "\n",
    "\n",
    "\n",
    "        stored_z1[begin:end] = z1.detach().cpu()\n",
    "        stored_z2[begin:end] = z1.detach().cpu()\n",
    "        stored_transform_log_p[begin:end] = transform_log_p.detach().cpu()\n",
    "        stored_magnitude_log_p[begin:end] = magnitude_log_p.detach().cpu()\n",
    "        stored_transform_actions_index[begin:end]  = transform_actions_index.detach().cpu()\n",
    "        stored_magnitude_actions_index[begin:end]  = magnitude_actions_index.detach().cpu()\n",
    "        # stored_rewards[begin:end] = (new_img1 - new_img2).reshape(batch_size, -1).mean(axis=1)\n",
    "        stored_rewards[begin:end] = - (F.normalize(new_z1) * F.normalize(new_z2)).sum(axis=-1)\n",
    "\n",
    "\n",
    "    return (\n",
    "            (stored_z1, stored_z2), \n",
    "            (stored_transform_log_p, stored_magnitude_log_p),\n",
    "            (stored_transform_actions_index, stored_magnitude_actions_index),\n",
    "            stored_rewards\n",
    "        ), (img1, img2, new_img1, new_img2)\n",
    "\n",
    "# trajectory = collect_trajectories(1024, encoder, decoder, 1024)"
   ]
  },
  {
   "cell_type": "code",
   "execution_count": 17,
   "metadata": {},
   "outputs": [],
   "source": [
    "def shuffle_trajectory(trajectory):\n",
    "\n",
    "    (\n",
    "        (stored_z1, stored_z2), \n",
    "        (stored_transform_log_p, stored_magnitude_log_p),\n",
    "        (stored_transform_actions_index, stored_magnitude_actions_index),\n",
    "        stored_rewards\n",
    "    ) = trajectory\n",
    "\n",
    "    permutation = torch.randperm(stored_z1.size()[0])\n",
    "\n",
    "    permuted_stored_z1 = stored_z1[permutation]\n",
    "    permuted_stored_z2 = stored_z2[permutation]\n",
    "    permuted_stored_transform_log_p = stored_transform_log_p[permutation]\n",
    "    permuted_stored_magnitude_log_p = stored_magnitude_log_p[permutation]\n",
    "    permuted_stored_transform_actions_index  = stored_transform_actions_index[permutation]\n",
    "    permuted_stored_magnitude_actions_index  = stored_magnitude_actions_index[permutation]\n",
    "    permuted_stored_rewards = stored_rewards[permutation]\n",
    "\n",
    "    permuted_trajectory = (\n",
    "        (permuted_stored_z1, permuted_stored_z2),\n",
    "        (permuted_stored_transform_log_p, permuted_stored_magnitude_log_p),\n",
    "        (permuted_stored_transform_actions_index, permuted_stored_magnitude_actions_index),\n",
    "        permuted_stored_rewards\n",
    "    )\n",
    "\n",
    "    return permuted_trajectory"
   ]
  },
  {
   "cell_type": "code",
   "execution_count": 18,
   "metadata": {},
   "outputs": [],
   "source": [
    "def calculate_entropy(probabilities):\n",
    "    epsilon = 1e-12\n",
    "    log_probabilities = torch.log(probabilities + epsilon)\n",
    "    entropy = -torch.sum(probabilities * log_probabilities, dim=-1)\n",
    "    return entropy\n",
    "\n",
    "def ppo_update(trajectory, decoder, optimizer, value_criterion, ppo_batch_size=256, ppo_epochs=4):\n",
    "\n",
    "\n",
    "    for _ in range(ppo_epochs):\n",
    "    \n",
    "        shuffled_trajectory = shuffle_trajectory(trajectory)\n",
    "\n",
    "        (\n",
    "            (stored_z1, stored_z2), \n",
    "            (stored_transform_log_p, stored_magnitude_log_p),\n",
    "            (stored_transform_actions_index, stored_magnitude_actions_index),\n",
    "            stored_rewards\n",
    "        ) = shuffled_trajectory\n",
    "\n",
    "        len_trajectory = stored_z1.shape[0]\n",
    "\n",
    "\n",
    "        assert len_trajectory % ppo_batch_size == 0\n",
    "\n",
    "        acc_loss = 0\n",
    "        acc_loss_counter = 0\n",
    "        for i in range(len_trajectory // ppo_batch_size):\n",
    "\n",
    "            begin, end = i*ppo_batch_size, (i+1)*ppo_batch_size\n",
    "\n",
    "            z1 = stored_z1[begin:end].to(device).detach()\n",
    "            z2 = stored_z2[begin:end].to(device).detach()\n",
    "            old_transform_log_p = stored_transform_log_p[begin:end].to(device).detach()\n",
    "            old_magnitude_log_p = stored_magnitude_log_p[begin:end].to(device).detach()\n",
    "            transform_actions_index = stored_transform_actions_index[begin:end].to(device).detach()\n",
    "            magnitude_actions_index = stored_magnitude_actions_index[begin:end].to(device).detach()\n",
    "            reward = stored_rewards[begin:end].to(device).detach()\n",
    "\n",
    "            new_transform_preds, new_magnitude_preds = decoder(z1, z2, old_action_index=(transform_actions_index, magnitude_actions_index))\n",
    "            new_transform_actions_index, new_transform_log_p = new_transform_preds\n",
    "            new_magnitude_actions_index, new_magnitude_log_p = new_magnitude_preds\n",
    "            \n",
    "            assert (transform_actions_index == new_transform_actions_index).all()\n",
    "            assert (magnitude_actions_index == new_magnitude_actions_index).all()\n",
    "            \n",
    "\n",
    "            # entropy_loss = calculate_entropy(new_transform_p).mean() + calculate_entropy(new_magnitude_p).mean()\n",
    "            # entropy_loss = -1. *  entropy_loss\n",
    "            # print('entropy:', entropy.item())\n",
    "\n",
    "\n",
    "            old_log_p = torch.concatenate((old_transform_log_p, old_magnitude_log_p), dim=-1)\n",
    "            new_log_p = torch.concatenate((new_transform_log_p, new_magnitude_log_p), dim=-1)\n",
    "\n",
    "            old_log_p = old_log_p.reshape(ppo_batch_size, -1)\n",
    "            new_log_p = new_log_p.reshape(ppo_batch_size, -1)\n",
    "\n",
    "        \n",
    "            advantage = reward\n",
    "            advantage = (advantage - advantage.mean()) / (advantage.std() + 1e-8)\n",
    "            advantage = advantage.unsqueeze(-1)\n",
    "            ratio = torch.exp(new_log_p - old_log_p.detach())\n",
    "\n",
    "            surr1 = ratio * advantage\n",
    "            surr2 = torch.clamp(ratio, 1-0.2, 1+0.2) * advantage\n",
    "            actor_loss = - torch.min(surr1, surr2).mean()\n",
    "\n",
    "            loss = actor_loss\n",
    "\n",
    "            # print('old_log_p', old_log_p.shape)\n",
    "            # print('advantage', advantage.shape)\n",
    "            # print('ratio', ratio.shape)\n",
    "            # print('torch.min(surr1, surr2)', torch.min(surr1, surr2).shape)\n",
    "\n",
    "            optimizer.zero_grad()\n",
    "            loss.backward()\n",
    "            optimizer.step()\n",
    "            \n",
    "            acc_loss += loss.item()\n",
    "            acc_loss_counter += 1\n",
    "\n",
    "    return acc_loss / acc_loss_counter\n",
    "    "
   ]
  },
  {
   "cell_type": "markdown",
   "metadata": {},
   "source": [
    "---"
   ]
  },
  {
   "cell_type": "code",
   "execution_count": 19,
   "metadata": {},
   "outputs": [],
   "source": [
    "def init():\n",
    "\n",
    "    encoder = build_resnet18()\n",
    "    encoder.load_state_dict(torch.load('params/resnet18_contrastive.pt'))\n",
    "    encoder = encoder.to(device)\n",
    "\n",
    "    decoder = DecoderRNN(\n",
    "        embed_size=1024,\n",
    "        encoder_dim=128,\n",
    "        decoder_dim=512,\n",
    "        num_transforms=4,\n",
    "        num_discrete_magnitude=10,\n",
    "        seq_length=4\n",
    "    ).to(device)\n",
    "\n",
    "    optimizer = torch.optim.Adam(\n",
    "        decoder.parameters(),\n",
    "        lr=0.001\n",
    "    )\n",
    "\n",
    "    value_criterion = nn.MSELoss()\n",
    "    list(decoder.parameters())[-1]\n",
    "\n",
    "    return encoder, decoder, optimizer, value_criterion"
   ]
  },
  {
   "cell_type": "code",
   "execution_count": 20,
   "metadata": {},
   "outputs": [
    {
     "name": "stderr",
     "output_type": "stream",
     "text": [
      "Reward: 0.304516        Loss: -0.000320:  35%|███▍      | 104/300 [16:33<31:11,  9.55s/it]\n"
     ]
    },
    {
     "ename": "KeyboardInterrupt",
     "evalue": "",
     "output_type": "error",
     "traceback": [
      "\u001b[0;31m---------------------------------------------------------------------------\u001b[0m",
      "\u001b[0;31mKeyboardInterrupt\u001b[0m                         Traceback (most recent call last)",
      "Cell \u001b[0;32mIn[20], line 9\u001b[0m\n\u001b[1;32m      6\u001b[0m tqdm_range \u001b[38;5;241m=\u001b[39m tqdm(\u001b[38;5;28mrange\u001b[39m(\u001b[38;5;241m300\u001b[39m))\n\u001b[1;32m      7\u001b[0m \u001b[38;5;28;01mfor\u001b[39;00m step \u001b[38;5;129;01min\u001b[39;00m tqdm_range:\n\u001b[0;32m----> 9\u001b[0m     trajectory, (img1, img2, new_img1, new_img2) \u001b[38;5;241m=\u001b[39m \u001b[43mcollect_trajectories\u001b[49m\u001b[43m(\u001b[49m\n\u001b[1;32m     10\u001b[0m \u001b[43m        \u001b[49m\u001b[43mlen_trajectory\u001b[49m\u001b[38;5;241;43m=\u001b[39;49m\u001b[38;5;241;43m512\u001b[39;49m\u001b[43m,\u001b[49m\n\u001b[1;32m     11\u001b[0m \u001b[43m        \u001b[49m\u001b[43mencoder\u001b[49m\u001b[38;5;241;43m=\u001b[39;49m\u001b[43mencoder\u001b[49m\u001b[43m,\u001b[49m\n\u001b[1;32m     12\u001b[0m \u001b[43m        \u001b[49m\u001b[43mdecoder\u001b[49m\u001b[38;5;241;43m=\u001b[39;49m\u001b[43mdecoder\u001b[49m\u001b[43m,\u001b[49m\n\u001b[1;32m     13\u001b[0m \u001b[43m        \u001b[49m\u001b[43mbatch_size\u001b[49m\u001b[38;5;241;43m=\u001b[39;49m\u001b[38;5;241;43m512\u001b[39;49m\n\u001b[1;32m     14\u001b[0m \u001b[43m    \u001b[49m\u001b[43m)\u001b[49m\n\u001b[1;32m     16\u001b[0m     loss \u001b[38;5;241m=\u001b[39m ppo_update(\n\u001b[1;32m     17\u001b[0m         trajectory,\n\u001b[1;32m     18\u001b[0m         decoder,\n\u001b[0;32m   (...)\u001b[0m\n\u001b[1;32m     22\u001b[0m         value_criterion\u001b[38;5;241m=\u001b[39mvalue_criterion\n\u001b[1;32m     23\u001b[0m     )\n\u001b[1;32m     25\u001b[0m     reward \u001b[38;5;241m=\u001b[39m \u001b[38;5;28mfloat\u001b[39m(trajectory[\u001b[38;5;241m-\u001b[39m\u001b[38;5;241m1\u001b[39m]\u001b[38;5;241m.\u001b[39mmean())\n",
      "Cell \u001b[0;32mIn[16], line 41\u001b[0m, in \u001b[0;36mcollect_trajectories\u001b[0;34m(len_trajectory, encoder, decoder, batch_size)\u001b[0m\n\u001b[1;32m     38\u001b[0m img2 \u001b[38;5;241m=\u001b[39m img2\u001b[38;5;241m.\u001b[39mto(device)\n\u001b[1;32m     40\u001b[0m \u001b[38;5;28;01mwith\u001b[39;00m torch\u001b[38;5;241m.\u001b[39mno_grad():\n\u001b[0;32m---> 41\u001b[0m     _, z1 \u001b[38;5;241m=\u001b[39m \u001b[43mencoder\u001b[49m\u001b[43m(\u001b[49m\u001b[43mimg1\u001b[49m\u001b[43m)\u001b[49m\n\u001b[1;32m     42\u001b[0m     _, z2 \u001b[38;5;241m=\u001b[39m encoder(img2)\n\u001b[1;32m     44\u001b[0m \u001b[38;5;28;01mwith\u001b[39;00m torch\u001b[38;5;241m.\u001b[39mno_grad():\n",
      "File \u001b[0;32m~/.local/lib/python3.10/site-packages/torch/nn/modules/module.py:1518\u001b[0m, in \u001b[0;36mModule._wrapped_call_impl\u001b[0;34m(self, *args, **kwargs)\u001b[0m\n\u001b[1;32m   1516\u001b[0m     \u001b[38;5;28;01mreturn\u001b[39;00m \u001b[38;5;28mself\u001b[39m\u001b[38;5;241m.\u001b[39m_compiled_call_impl(\u001b[38;5;241m*\u001b[39margs, \u001b[38;5;241m*\u001b[39m\u001b[38;5;241m*\u001b[39mkwargs)  \u001b[38;5;66;03m# type: ignore[misc]\u001b[39;00m\n\u001b[1;32m   1517\u001b[0m \u001b[38;5;28;01melse\u001b[39;00m:\n\u001b[0;32m-> 1518\u001b[0m     \u001b[38;5;28;01mreturn\u001b[39;00m \u001b[38;5;28;43mself\u001b[39;49m\u001b[38;5;241;43m.\u001b[39;49m\u001b[43m_call_impl\u001b[49m\u001b[43m(\u001b[49m\u001b[38;5;241;43m*\u001b[39;49m\u001b[43margs\u001b[49m\u001b[43m,\u001b[49m\u001b[43m \u001b[49m\u001b[38;5;241;43m*\u001b[39;49m\u001b[38;5;241;43m*\u001b[39;49m\u001b[43mkwargs\u001b[49m\u001b[43m)\u001b[49m\n",
      "File \u001b[0;32m~/.local/lib/python3.10/site-packages/torch/nn/modules/module.py:1527\u001b[0m, in \u001b[0;36mModule._call_impl\u001b[0;34m(self, *args, **kwargs)\u001b[0m\n\u001b[1;32m   1522\u001b[0m \u001b[38;5;66;03m# If we don't have any hooks, we want to skip the rest of the logic in\u001b[39;00m\n\u001b[1;32m   1523\u001b[0m \u001b[38;5;66;03m# this function, and just call forward.\u001b[39;00m\n\u001b[1;32m   1524\u001b[0m \u001b[38;5;28;01mif\u001b[39;00m \u001b[38;5;129;01mnot\u001b[39;00m (\u001b[38;5;28mself\u001b[39m\u001b[38;5;241m.\u001b[39m_backward_hooks \u001b[38;5;129;01mor\u001b[39;00m \u001b[38;5;28mself\u001b[39m\u001b[38;5;241m.\u001b[39m_backward_pre_hooks \u001b[38;5;129;01mor\u001b[39;00m \u001b[38;5;28mself\u001b[39m\u001b[38;5;241m.\u001b[39m_forward_hooks \u001b[38;5;129;01mor\u001b[39;00m \u001b[38;5;28mself\u001b[39m\u001b[38;5;241m.\u001b[39m_forward_pre_hooks\n\u001b[1;32m   1525\u001b[0m         \u001b[38;5;129;01mor\u001b[39;00m _global_backward_pre_hooks \u001b[38;5;129;01mor\u001b[39;00m _global_backward_hooks\n\u001b[1;32m   1526\u001b[0m         \u001b[38;5;129;01mor\u001b[39;00m _global_forward_hooks \u001b[38;5;129;01mor\u001b[39;00m _global_forward_pre_hooks):\n\u001b[0;32m-> 1527\u001b[0m     \u001b[38;5;28;01mreturn\u001b[39;00m \u001b[43mforward_call\u001b[49m\u001b[43m(\u001b[49m\u001b[38;5;241;43m*\u001b[39;49m\u001b[43margs\u001b[49m\u001b[43m,\u001b[49m\u001b[43m \u001b[49m\u001b[38;5;241;43m*\u001b[39;49m\u001b[38;5;241;43m*\u001b[39;49m\u001b[43mkwargs\u001b[49m\u001b[43m)\u001b[49m\n\u001b[1;32m   1529\u001b[0m \u001b[38;5;28;01mtry\u001b[39;00m:\n\u001b[1;32m   1530\u001b[0m     result \u001b[38;5;241m=\u001b[39m \u001b[38;5;28;01mNone\u001b[39;00m\n",
      "File \u001b[0;32m~/Script/RL_contrastive/utils/networks.py:162\u001b[0m, in \u001b[0;36mSimCLR.forward\u001b[0;34m(self, x)\u001b[0m\n\u001b[1;32m    161\u001b[0m \u001b[38;5;28;01mdef\u001b[39;00m \u001b[38;5;21mforward\u001b[39m(\u001b[38;5;28mself\u001b[39m, x):\n\u001b[0;32m--> 162\u001b[0m     feature \u001b[38;5;241m=\u001b[39m \u001b[38;5;28;43mself\u001b[39;49m\u001b[38;5;241;43m.\u001b[39;49m\u001b[43menc\u001b[49m\u001b[43m(\u001b[49m\u001b[43mx\u001b[49m\u001b[43m)\u001b[49m\n\u001b[1;32m    163\u001b[0m     projection \u001b[38;5;241m=\u001b[39m \u001b[38;5;28mself\u001b[39m\u001b[38;5;241m.\u001b[39mprojector(feature)\n\u001b[1;32m    164\u001b[0m     \u001b[38;5;28;01mreturn\u001b[39;00m feature, projection\n",
      "File \u001b[0;32m~/.local/lib/python3.10/site-packages/torch/nn/modules/module.py:1518\u001b[0m, in \u001b[0;36mModule._wrapped_call_impl\u001b[0;34m(self, *args, **kwargs)\u001b[0m\n\u001b[1;32m   1516\u001b[0m     \u001b[38;5;28;01mreturn\u001b[39;00m \u001b[38;5;28mself\u001b[39m\u001b[38;5;241m.\u001b[39m_compiled_call_impl(\u001b[38;5;241m*\u001b[39margs, \u001b[38;5;241m*\u001b[39m\u001b[38;5;241m*\u001b[39mkwargs)  \u001b[38;5;66;03m# type: ignore[misc]\u001b[39;00m\n\u001b[1;32m   1517\u001b[0m \u001b[38;5;28;01melse\u001b[39;00m:\n\u001b[0;32m-> 1518\u001b[0m     \u001b[38;5;28;01mreturn\u001b[39;00m \u001b[38;5;28;43mself\u001b[39;49m\u001b[38;5;241;43m.\u001b[39;49m\u001b[43m_call_impl\u001b[49m\u001b[43m(\u001b[49m\u001b[38;5;241;43m*\u001b[39;49m\u001b[43margs\u001b[49m\u001b[43m,\u001b[49m\u001b[43m \u001b[49m\u001b[38;5;241;43m*\u001b[39;49m\u001b[38;5;241;43m*\u001b[39;49m\u001b[43mkwargs\u001b[49m\u001b[43m)\u001b[49m\n",
      "File \u001b[0;32m~/.local/lib/python3.10/site-packages/torch/nn/modules/module.py:1527\u001b[0m, in \u001b[0;36mModule._call_impl\u001b[0;34m(self, *args, **kwargs)\u001b[0m\n\u001b[1;32m   1522\u001b[0m \u001b[38;5;66;03m# If we don't have any hooks, we want to skip the rest of the logic in\u001b[39;00m\n\u001b[1;32m   1523\u001b[0m \u001b[38;5;66;03m# this function, and just call forward.\u001b[39;00m\n\u001b[1;32m   1524\u001b[0m \u001b[38;5;28;01mif\u001b[39;00m \u001b[38;5;129;01mnot\u001b[39;00m (\u001b[38;5;28mself\u001b[39m\u001b[38;5;241m.\u001b[39m_backward_hooks \u001b[38;5;129;01mor\u001b[39;00m \u001b[38;5;28mself\u001b[39m\u001b[38;5;241m.\u001b[39m_backward_pre_hooks \u001b[38;5;129;01mor\u001b[39;00m \u001b[38;5;28mself\u001b[39m\u001b[38;5;241m.\u001b[39m_forward_hooks \u001b[38;5;129;01mor\u001b[39;00m \u001b[38;5;28mself\u001b[39m\u001b[38;5;241m.\u001b[39m_forward_pre_hooks\n\u001b[1;32m   1525\u001b[0m         \u001b[38;5;129;01mor\u001b[39;00m _global_backward_pre_hooks \u001b[38;5;129;01mor\u001b[39;00m _global_backward_hooks\n\u001b[1;32m   1526\u001b[0m         \u001b[38;5;129;01mor\u001b[39;00m _global_forward_hooks \u001b[38;5;129;01mor\u001b[39;00m _global_forward_pre_hooks):\n\u001b[0;32m-> 1527\u001b[0m     \u001b[38;5;28;01mreturn\u001b[39;00m \u001b[43mforward_call\u001b[49m\u001b[43m(\u001b[49m\u001b[38;5;241;43m*\u001b[39;49m\u001b[43margs\u001b[49m\u001b[43m,\u001b[49m\u001b[43m \u001b[49m\u001b[38;5;241;43m*\u001b[39;49m\u001b[38;5;241;43m*\u001b[39;49m\u001b[43mkwargs\u001b[49m\u001b[43m)\u001b[49m\n\u001b[1;32m   1529\u001b[0m \u001b[38;5;28;01mtry\u001b[39;00m:\n\u001b[1;32m   1530\u001b[0m     result \u001b[38;5;241m=\u001b[39m \u001b[38;5;28;01mNone\u001b[39;00m\n",
      "File \u001b[0;32m~/.local/lib/python3.10/site-packages/torchvision/models/resnet.py:285\u001b[0m, in \u001b[0;36mResNet.forward\u001b[0;34m(self, x)\u001b[0m\n\u001b[1;32m    284\u001b[0m \u001b[38;5;28;01mdef\u001b[39;00m \u001b[38;5;21mforward\u001b[39m(\u001b[38;5;28mself\u001b[39m, x: Tensor) \u001b[38;5;241m-\u001b[39m\u001b[38;5;241m>\u001b[39m Tensor:\n\u001b[0;32m--> 285\u001b[0m     \u001b[38;5;28;01mreturn\u001b[39;00m \u001b[38;5;28;43mself\u001b[39;49m\u001b[38;5;241;43m.\u001b[39;49m\u001b[43m_forward_impl\u001b[49m\u001b[43m(\u001b[49m\u001b[43mx\u001b[49m\u001b[43m)\u001b[49m\n",
      "File \u001b[0;32m~/.local/lib/python3.10/site-packages/torchvision/models/resnet.py:269\u001b[0m, in \u001b[0;36mResNet._forward_impl\u001b[0;34m(self, x)\u001b[0m\n\u001b[1;32m    266\u001b[0m \u001b[38;5;28;01mdef\u001b[39;00m \u001b[38;5;21m_forward_impl\u001b[39m(\u001b[38;5;28mself\u001b[39m, x: Tensor) \u001b[38;5;241m-\u001b[39m\u001b[38;5;241m>\u001b[39m Tensor:\n\u001b[1;32m    267\u001b[0m     \u001b[38;5;66;03m# See note [TorchScript super()]\u001b[39;00m\n\u001b[1;32m    268\u001b[0m     x \u001b[38;5;241m=\u001b[39m \u001b[38;5;28mself\u001b[39m\u001b[38;5;241m.\u001b[39mconv1(x)\n\u001b[0;32m--> 269\u001b[0m     x \u001b[38;5;241m=\u001b[39m \u001b[38;5;28;43mself\u001b[39;49m\u001b[38;5;241;43m.\u001b[39;49m\u001b[43mbn1\u001b[49m\u001b[43m(\u001b[49m\u001b[43mx\u001b[49m\u001b[43m)\u001b[49m\n\u001b[1;32m    270\u001b[0m     x \u001b[38;5;241m=\u001b[39m \u001b[38;5;28mself\u001b[39m\u001b[38;5;241m.\u001b[39mrelu(x)\n\u001b[1;32m    271\u001b[0m     x \u001b[38;5;241m=\u001b[39m \u001b[38;5;28mself\u001b[39m\u001b[38;5;241m.\u001b[39mmaxpool(x)\n",
      "File \u001b[0;32m~/.local/lib/python3.10/site-packages/torch/nn/modules/module.py:1518\u001b[0m, in \u001b[0;36mModule._wrapped_call_impl\u001b[0;34m(self, *args, **kwargs)\u001b[0m\n\u001b[1;32m   1516\u001b[0m     \u001b[38;5;28;01mreturn\u001b[39;00m \u001b[38;5;28mself\u001b[39m\u001b[38;5;241m.\u001b[39m_compiled_call_impl(\u001b[38;5;241m*\u001b[39margs, \u001b[38;5;241m*\u001b[39m\u001b[38;5;241m*\u001b[39mkwargs)  \u001b[38;5;66;03m# type: ignore[misc]\u001b[39;00m\n\u001b[1;32m   1517\u001b[0m \u001b[38;5;28;01melse\u001b[39;00m:\n\u001b[0;32m-> 1518\u001b[0m     \u001b[38;5;28;01mreturn\u001b[39;00m \u001b[38;5;28;43mself\u001b[39;49m\u001b[38;5;241;43m.\u001b[39;49m\u001b[43m_call_impl\u001b[49m\u001b[43m(\u001b[49m\u001b[38;5;241;43m*\u001b[39;49m\u001b[43margs\u001b[49m\u001b[43m,\u001b[49m\u001b[43m \u001b[49m\u001b[38;5;241;43m*\u001b[39;49m\u001b[38;5;241;43m*\u001b[39;49m\u001b[43mkwargs\u001b[49m\u001b[43m)\u001b[49m\n",
      "File \u001b[0;32m~/.local/lib/python3.10/site-packages/torch/nn/modules/module.py:1527\u001b[0m, in \u001b[0;36mModule._call_impl\u001b[0;34m(self, *args, **kwargs)\u001b[0m\n\u001b[1;32m   1522\u001b[0m \u001b[38;5;66;03m# If we don't have any hooks, we want to skip the rest of the logic in\u001b[39;00m\n\u001b[1;32m   1523\u001b[0m \u001b[38;5;66;03m# this function, and just call forward.\u001b[39;00m\n\u001b[1;32m   1524\u001b[0m \u001b[38;5;28;01mif\u001b[39;00m \u001b[38;5;129;01mnot\u001b[39;00m (\u001b[38;5;28mself\u001b[39m\u001b[38;5;241m.\u001b[39m_backward_hooks \u001b[38;5;129;01mor\u001b[39;00m \u001b[38;5;28mself\u001b[39m\u001b[38;5;241m.\u001b[39m_backward_pre_hooks \u001b[38;5;129;01mor\u001b[39;00m \u001b[38;5;28mself\u001b[39m\u001b[38;5;241m.\u001b[39m_forward_hooks \u001b[38;5;129;01mor\u001b[39;00m \u001b[38;5;28mself\u001b[39m\u001b[38;5;241m.\u001b[39m_forward_pre_hooks\n\u001b[1;32m   1525\u001b[0m         \u001b[38;5;129;01mor\u001b[39;00m _global_backward_pre_hooks \u001b[38;5;129;01mor\u001b[39;00m _global_backward_hooks\n\u001b[1;32m   1526\u001b[0m         \u001b[38;5;129;01mor\u001b[39;00m _global_forward_hooks \u001b[38;5;129;01mor\u001b[39;00m _global_forward_pre_hooks):\n\u001b[0;32m-> 1527\u001b[0m     \u001b[38;5;28;01mreturn\u001b[39;00m \u001b[43mforward_call\u001b[49m\u001b[43m(\u001b[49m\u001b[38;5;241;43m*\u001b[39;49m\u001b[43margs\u001b[49m\u001b[43m,\u001b[49m\u001b[43m \u001b[49m\u001b[38;5;241;43m*\u001b[39;49m\u001b[38;5;241;43m*\u001b[39;49m\u001b[43mkwargs\u001b[49m\u001b[43m)\u001b[49m\n\u001b[1;32m   1529\u001b[0m \u001b[38;5;28;01mtry\u001b[39;00m:\n\u001b[1;32m   1530\u001b[0m     result \u001b[38;5;241m=\u001b[39m \u001b[38;5;28;01mNone\u001b[39;00m\n",
      "File \u001b[0;32m~/.local/lib/python3.10/site-packages/torch/nn/modules/batchnorm.py:171\u001b[0m, in \u001b[0;36m_BatchNorm.forward\u001b[0;34m(self, input)\u001b[0m\n\u001b[1;32m    164\u001b[0m     bn_training \u001b[38;5;241m=\u001b[39m (\u001b[38;5;28mself\u001b[39m\u001b[38;5;241m.\u001b[39mrunning_mean \u001b[38;5;129;01mis\u001b[39;00m \u001b[38;5;28;01mNone\u001b[39;00m) \u001b[38;5;129;01mand\u001b[39;00m (\u001b[38;5;28mself\u001b[39m\u001b[38;5;241m.\u001b[39mrunning_var \u001b[38;5;129;01mis\u001b[39;00m \u001b[38;5;28;01mNone\u001b[39;00m)\n\u001b[1;32m    166\u001b[0m \u001b[38;5;250m\u001b[39m\u001b[38;5;124mr\u001b[39m\u001b[38;5;124;03m\"\"\"\u001b[39;00m\n\u001b[1;32m    167\u001b[0m \u001b[38;5;124;03mBuffers are only updated if they are to be tracked and we are in training mode. Thus they only need to be\u001b[39;00m\n\u001b[1;32m    168\u001b[0m \u001b[38;5;124;03mpassed when the update should occur (i.e. in training mode when they are tracked), or when buffer stats are\u001b[39;00m\n\u001b[1;32m    169\u001b[0m \u001b[38;5;124;03mused for normalization (i.e. in eval mode when buffers are not None).\u001b[39;00m\n\u001b[1;32m    170\u001b[0m \u001b[38;5;124;03m\"\"\"\u001b[39;00m\n\u001b[0;32m--> 171\u001b[0m \u001b[38;5;28;01mreturn\u001b[39;00m \u001b[43mF\u001b[49m\u001b[38;5;241;43m.\u001b[39;49m\u001b[43mbatch_norm\u001b[49m\u001b[43m(\u001b[49m\n\u001b[1;32m    172\u001b[0m \u001b[43m    \u001b[49m\u001b[38;5;28;43minput\u001b[39;49m\u001b[43m,\u001b[49m\n\u001b[1;32m    173\u001b[0m \u001b[43m    \u001b[49m\u001b[38;5;66;43;03m# If buffers are not to be tracked, ensure that they won't be updated\u001b[39;49;00m\n\u001b[1;32m    174\u001b[0m \u001b[43m    \u001b[49m\u001b[38;5;28;43mself\u001b[39;49m\u001b[38;5;241;43m.\u001b[39;49m\u001b[43mrunning_mean\u001b[49m\n\u001b[1;32m    175\u001b[0m \u001b[43m    \u001b[49m\u001b[38;5;28;43;01mif\u001b[39;49;00m\u001b[43m \u001b[49m\u001b[38;5;129;43;01mnot\u001b[39;49;00m\u001b[43m \u001b[49m\u001b[38;5;28;43mself\u001b[39;49m\u001b[38;5;241;43m.\u001b[39;49m\u001b[43mtraining\u001b[49m\u001b[43m \u001b[49m\u001b[38;5;129;43;01mor\u001b[39;49;00m\u001b[43m \u001b[49m\u001b[38;5;28;43mself\u001b[39;49m\u001b[38;5;241;43m.\u001b[39;49m\u001b[43mtrack_running_stats\u001b[49m\n\u001b[1;32m    176\u001b[0m \u001b[43m    \u001b[49m\u001b[38;5;28;43;01melse\u001b[39;49;00m\u001b[43m \u001b[49m\u001b[38;5;28;43;01mNone\u001b[39;49;00m\u001b[43m,\u001b[49m\n\u001b[1;32m    177\u001b[0m \u001b[43m    \u001b[49m\u001b[38;5;28;43mself\u001b[39;49m\u001b[38;5;241;43m.\u001b[39;49m\u001b[43mrunning_var\u001b[49m\u001b[43m \u001b[49m\u001b[38;5;28;43;01mif\u001b[39;49;00m\u001b[43m \u001b[49m\u001b[38;5;129;43;01mnot\u001b[39;49;00m\u001b[43m \u001b[49m\u001b[38;5;28;43mself\u001b[39;49m\u001b[38;5;241;43m.\u001b[39;49m\u001b[43mtraining\u001b[49m\u001b[43m \u001b[49m\u001b[38;5;129;43;01mor\u001b[39;49;00m\u001b[43m \u001b[49m\u001b[38;5;28;43mself\u001b[39;49m\u001b[38;5;241;43m.\u001b[39;49m\u001b[43mtrack_running_stats\u001b[49m\u001b[43m \u001b[49m\u001b[38;5;28;43;01melse\u001b[39;49;00m\u001b[43m \u001b[49m\u001b[38;5;28;43;01mNone\u001b[39;49;00m\u001b[43m,\u001b[49m\n\u001b[1;32m    178\u001b[0m \u001b[43m    \u001b[49m\u001b[38;5;28;43mself\u001b[39;49m\u001b[38;5;241;43m.\u001b[39;49m\u001b[43mweight\u001b[49m\u001b[43m,\u001b[49m\n\u001b[1;32m    179\u001b[0m \u001b[43m    \u001b[49m\u001b[38;5;28;43mself\u001b[39;49m\u001b[38;5;241;43m.\u001b[39;49m\u001b[43mbias\u001b[49m\u001b[43m,\u001b[49m\n\u001b[1;32m    180\u001b[0m \u001b[43m    \u001b[49m\u001b[43mbn_training\u001b[49m\u001b[43m,\u001b[49m\n\u001b[1;32m    181\u001b[0m \u001b[43m    \u001b[49m\u001b[43mexponential_average_factor\u001b[49m\u001b[43m,\u001b[49m\n\u001b[1;32m    182\u001b[0m \u001b[43m    \u001b[49m\u001b[38;5;28;43mself\u001b[39;49m\u001b[38;5;241;43m.\u001b[39;49m\u001b[43meps\u001b[49m\u001b[43m,\u001b[49m\n\u001b[1;32m    183\u001b[0m \u001b[43m\u001b[49m\u001b[43m)\u001b[49m\n",
      "File \u001b[0;32m~/.local/lib/python3.10/site-packages/torch/nn/functional.py:2478\u001b[0m, in \u001b[0;36mbatch_norm\u001b[0;34m(input, running_mean, running_var, weight, bias, training, momentum, eps)\u001b[0m\n\u001b[1;32m   2475\u001b[0m \u001b[38;5;28;01mif\u001b[39;00m training:\n\u001b[1;32m   2476\u001b[0m     _verify_batch_size(\u001b[38;5;28minput\u001b[39m\u001b[38;5;241m.\u001b[39msize())\n\u001b[0;32m-> 2478\u001b[0m \u001b[38;5;28;01mreturn\u001b[39;00m \u001b[43mtorch\u001b[49m\u001b[38;5;241;43m.\u001b[39;49m\u001b[43mbatch_norm\u001b[49m\u001b[43m(\u001b[49m\n\u001b[1;32m   2479\u001b[0m \u001b[43m    \u001b[49m\u001b[38;5;28;43minput\u001b[39;49m\u001b[43m,\u001b[49m\u001b[43m \u001b[49m\u001b[43mweight\u001b[49m\u001b[43m,\u001b[49m\u001b[43m \u001b[49m\u001b[43mbias\u001b[49m\u001b[43m,\u001b[49m\u001b[43m \u001b[49m\u001b[43mrunning_mean\u001b[49m\u001b[43m,\u001b[49m\u001b[43m \u001b[49m\u001b[43mrunning_var\u001b[49m\u001b[43m,\u001b[49m\u001b[43m \u001b[49m\u001b[43mtraining\u001b[49m\u001b[43m,\u001b[49m\u001b[43m \u001b[49m\u001b[43mmomentum\u001b[49m\u001b[43m,\u001b[49m\u001b[43m \u001b[49m\u001b[43meps\u001b[49m\u001b[43m,\u001b[49m\u001b[43m \u001b[49m\u001b[43mtorch\u001b[49m\u001b[38;5;241;43m.\u001b[39;49m\u001b[43mbackends\u001b[49m\u001b[38;5;241;43m.\u001b[39;49m\u001b[43mcudnn\u001b[49m\u001b[38;5;241;43m.\u001b[39;49m\u001b[43menabled\u001b[49m\n\u001b[1;32m   2480\u001b[0m \u001b[43m\u001b[49m\u001b[43m)\u001b[49m\n",
      "\u001b[0;31mKeyboardInterrupt\u001b[0m: "
     ]
    }
   ],
   "source": [
    "\n",
    "encoder, decoder, optimizer, value_criterion = init()\n",
    "\n",
    "rewards = []\n",
    "\n",
    "\n",
    "tqdm_range = tqdm(range(300))\n",
    "for step in tqdm_range:\n",
    "\n",
    "    trajectory, (img1, img2, new_img1, new_img2) = collect_trajectories(\n",
    "        len_trajectory=512,\n",
    "        encoder=encoder,\n",
    "        decoder=decoder,\n",
    "        batch_size=512\n",
    "    )\n",
    "\n",
    "    loss = ppo_update(\n",
    "        trajectory,\n",
    "        decoder,\n",
    "        optimizer,\n",
    "        ppo_epochs=4,\n",
    "        ppo_batch_size=512,\n",
    "        value_criterion=value_criterion\n",
    "    )\n",
    "\n",
    "    reward = float(trajectory[-1].mean())\n",
    "\n",
    "\n",
    "    tqdm_range.set_description(f'Reward: {reward:.6f}        Loss: {loss:.6f}')\n",
    "\n",
    "    rewards.append(reward)\n"
   ]
  },
  {
   "cell_type": "code",
   "execution_count": null,
   "metadata": {},
   "outputs": [
    {
     "data": {
      "text/plain": [
       "2048"
      ]
     },
     "execution_count": 24,
     "metadata": {},
     "output_type": "execute_result"
    }
   ],
   "source": [
    "2560 - 512"
   ]
  },
  {
   "cell_type": "code",
   "execution_count": 22,
   "metadata": {},
   "outputs": [
    {
     "data": {
      "text/plain": [
       "(tensor([[0, 2, 2, 3],\n",
       "         [0, 0, 2, 0]]),\n",
       " tensor([[9, 9, 9, 9],\n",
       "         [9, 9, 9, 9]]))"
      ]
     },
     "execution_count": 22,
     "metadata": {},
     "output_type": "execute_result"
    }
   ],
   "source": [
    "trajectory[2][0][2], trajectory[2][1][2]"
   ]
  },
  {
   "cell_type": "code",
   "execution_count": null,
   "metadata": {},
   "outputs": [
    {
     "data": {
      "text/plain": [
       "tensor([[9, 9, 0, 9],\n",
       "        [9, 0, 9, 9]])"
      ]
     },
     "execution_count": 226,
     "metadata": {},
     "output_type": "execute_result"
    }
   ],
   "source": []
  },
  {
   "cell_type": "code",
   "execution_count": 21,
   "metadata": {},
   "outputs": [
    {
     "data": {
      "text/plain": [
       "[<matplotlib.lines.Line2D at 0x7f18503ac190>]"
      ]
     },
     "execution_count": 21,
     "metadata": {},
     "output_type": "execute_result"
    },
    {
     "data": {
      "image/png": "[encoded data removed]",
      "text/plain": [
       "<Figure size 640x480 with 1 Axes>"
      ]
     },
     "metadata": {},
     "output_type": "display_data"
    }
   ],
   "source": [
    "plt.plot(rewards)"
   ]
  },
  {
   "cell_type": "code",
   "execution_count": 23,
   "metadata": {},
   "outputs": [
    {
     "data": {
      "image/png": "[encoded data removed]",
      "text/plain": [
       "<Figure size 400x400 with 2 Axes>"
      ]
     },
     "metadata": {},
     "output_type": "display_data"
    }
   ],
   "source": [
    "import matplotlib.pyplot as plt\n",
    "import numpy as np\n",
    "\n",
    "def plot_two_subplots(img1, img2):\n",
    "    fig, axs = plt.subplots(1, 2, figsize=(4, 4))  # 1 row, 2 columns\n",
    "    axs[0].imshow(img1)\n",
    "    axs[1].imshow(img2)\n",
    "    plt.tight_layout()\n",
    "    plt.show()\n",
    "\n",
    "plot_two_subplots(new_img1[0].permute(1,2,0), new_img2[0].permute(1,2,0))"
   ]
  },
  {
   "cell_type": "code",
   "execution_count": 24,
   "metadata": {},
   "outputs": [
    {
     "data": {
      "text/plain": [
       "<matplotlib.image.AxesImage at 0x7f1850141a80>"
      ]
     },
     "execution_count": 24,
     "metadata": {},
     "output_type": "execute_result"
    },
    {
     "data": {
      "image/png": "[encoded data removed]",
      "text/plain": [
       "<Figure size 640x480 with 1 Axes>"
      ]
     },
     "metadata": {},
     "output_type": "display_data"
    }
   ],
   "source": [
    "plt.imshow(img1[0].permute(1,2,0).cpu().numpy())"
   ]
  },
  {
   "cell_type": "code",
   "execution_count": null,
   "metadata": {},
   "outputs": [
    {
     "data": {
      "text/plain": [
       "<matplotlib.image.AxesImage at 0x7fb52d8ac250>"
      ]
     },
     "execution_count": 66,
     "metadata": {},
     "output_type": "execute_result"
    },
    {
     "data": {
      "image/png": "[encoded data removed]",
      "text/plain": [
       "<Figure size 640x480 with 1 Axes>"
      ]
     },
     "metadata": {},
     "output_type": "display_data"
    }
   ],
   "source": []
  },
  {
   "cell_type": "code",
   "execution_count": null,
   "metadata": {},
   "outputs": [],
   "source": []
  }
 ],
 "metadata": {
  "kernelspec": {
   "display_name": "Python 3",
   "language": "python",
   "name": "python3"
  },
  "language_info": {
   "codemirror_mode": {
    "name": "ipython",
    "version": 3
   },
   "file_extension": ".py",
   "mimetype": "text/x-python",
   "name": "python",
   "nbconvert_exporter": "python",
   "pygments_lexer": "ipython3",
   "version": "3.10.12"
  }
 },
 "nbformat": 4,
 "nbformat_minor": 2
}
