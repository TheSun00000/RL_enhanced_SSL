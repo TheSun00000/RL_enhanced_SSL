{
 "cells": [
  {
   "cell_type": "code",
   "execution_count": 1,
   "metadata": {},
   "outputs": [],
   "source": [
    "import torch\n",
    "import torch.nn as nn\n",
    "import torch.nn.functional as F\n",
    "\n",
    "import matplotlib.pyplot as plt"
   ]
  },
  {
   "cell_type": "code",
   "execution_count": 110,
   "metadata": {},
   "outputs": [
    {
     "name": "stdout",
     "output_type": "stream",
     "text": [
      "tensor([], dtype=torch.int64)\n",
      "tensor([ 0,  1,  2,  3,  4,  5,  6,  7,  8,  9, 10, 11, 12, 13, 14, 15])\n"
     ]
    }
   ],
   "source": [
    "original = torch.rand((16, 3, 32, 32))\n",
    "\n",
    "is_random_aug = (torch.rand((original.shape[0])) < 0.) * 1\n",
    "is_ppo_aug = 1 - is_random_aug\n",
    "\n",
    "random_aug_idx = torch.arange(0, len(is_random_aug))[is_random_aug.bool()]\n",
    "ppo_aug_idx = torch.arange(0, len(is_ppo_aug))[is_ppo_aug.bool()]\n",
    "\n",
    "print(random_aug_idx)\n",
    "print(ppo_aug_idx)\n",
    "\n",
    "random_imgs = original[random_aug_idx]\n",
    "ppo_imgs = original[ppo_aug_idx]"
   ]
  },
  {
   "cell_type": "code",
   "execution_count": 113,
   "metadata": {},
   "outputs": [
    {
     "data": {
      "text/plain": [
       "0"
      ]
     },
     "execution_count": 113,
     "metadata": {},
     "output_type": "execute_result"
    }
   ],
   "source": [
    "random_imgs.shape[0]"
   ]
  },
  {
   "cell_type": "code",
   "execution_count": 108,
   "metadata": {},
   "outputs": [],
   "source": [
    "return_img = torch.zeros_like(original)\n",
    "\n",
    "return_img[random_aug_idx] = random_imgs\n",
    "return_img[ppo_aug_idx] = ppo_imgs"
   ]
  },
  {
   "cell_type": "code",
   "execution_count": 116,
   "metadata": {},
   "outputs": [],
   "source": [
    "dist = torch.distributions.Categorical(logits=torch.tensor([0.1, 0.4, 0.5]))"
   ]
  },
  {
   "cell_type": "code",
   "execution_count": 121,
   "metadata": {},
   "outputs": [
    {
     "data": {
      "text/plain": [
       "tensor([1, 1, 2, 2, 2, 2, 2, 1, 2, 1, 2, 2, 0, 0, 0, 1, 2, 1, 1, 0, 2, 1, 1, 1,\n",
       "        1, 1, 1, 2, 0, 0, 2, 2, 1, 0, 2, 2, 0, 2, 1, 0, 1, 0, 1, 1, 2, 2, 1, 0,\n",
       "        1, 1, 0, 2, 0, 2, 1, 0, 0, 2, 0, 1, 2, 1, 1, 2, 1, 1, 1, 2, 2, 2, 1, 1,\n",
       "        1, 1, 0, 0, 2, 2, 0, 2, 0, 1, 2, 2, 0, 2, 2, 0, 0, 0, 2, 2, 0, 0, 2, 1,\n",
       "        0, 2, 2, 2])"
      ]
     },
     "execution_count": 121,
     "metadata": {},
     "output_type": "execute_result"
    }
   ],
   "source": [
    "dist.sample(torch.tensor((100,)))"
   ]
  },
  {
   "cell_type": "code",
   "execution_count": 6,
   "metadata": {},
   "outputs": [],
   "source": [
    "import torch\n",
    "import torch.nn as nn\n",
    "import torch.nn.functional as F\n",
    "\n",
    "import matplotlib.pyplot as plt\n",
    "\n",
    "from utils.networks import DecoderNN_1input"
   ]
  },
  {
   "cell_type": "code",
   "execution_count": 7,
   "metadata": {},
   "outputs": [],
   "source": [
    "decoder = DecoderNN_1input(\n",
    "    num_transforms=5,\n",
    "    num_discrete_magnitude=10,\n",
    "    device='cpu'\n",
    ")"
   ]
  },
  {
   "cell_type": "code",
   "execution_count": 9,
   "metadata": {},
   "outputs": [],
   "source": [
    "color_magnitude_dist, color_permutation_dist = decoder.sample(50)"
   ]
  },
  {
   "cell_type": "code",
   "execution_count": 19,
   "metadata": {},
   "outputs": [
    {
     "data": {
      "text/plain": [
       "torch.Size([100, 2, 10])"
      ]
     },
     "execution_count": 19,
     "metadata": {},
     "output_type": "execute_result"
    }
   ],
   "source": [
    "color_magnitude_index, color_permutation_index = color_magnitude_dist.sample((100,)), color_permutation_dist.sample((100,))\n",
    "\n",
    "actions_index = torch.concat((\n",
    "    torch.zeros((100, 2, 1), dtype=torch.float32),\n",
    "    torch.zeros((100, 2, 1), dtype=torch.float32),\n",
    "    color_magnitude_index.squeeze(1),\n",
    "    color_permutation_index.squeeze(1).unsqueeze(-1),\n",
    "    torch.zeros((100, 2, 1), dtype=torch.float32),\n",
    "    torch.zeros((100, 2, 1), dtype=torch.float32),\n",
    "    torch.zeros((100, 2, 1), dtype=torch.float32),\n",
    "), dim=-1)\n",
    "\n",
    "return actions_index"
   ]
  },
  {
   "cell_type": "code",
   "execution_count": null,
   "metadata": {},
   "outputs": [],
   "source": [
    "# [8, 2, 10] [10, 2, 10]\n",
    "# (15, 2, 1) (15, 2, 1) (15, 2, 4) (15, 2, 1) (15, 2, 1) (15, 2, 1) (15, 2, 1)"
   ]
  }
 ],
 "metadata": {
  "kernelspec": {
   "display_name": "Python 3",
   "language": "python",
   "name": "python3"
  },
  "language_info": {
   "codemirror_mode": {
    "name": "ipython",
    "version": 3
   },
   "file_extension": ".py",
   "mimetype": "text/x-python",
   "name": "python",
   "nbconvert_exporter": "python",
   "pygments_lexer": "ipython3",
   "version": "3.6.8"
  }
 },
 "nbformat": 4,
 "nbformat_minor": 2
}
