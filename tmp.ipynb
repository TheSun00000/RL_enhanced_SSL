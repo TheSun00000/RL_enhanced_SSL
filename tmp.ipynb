{
 "cells": [
  {
   "cell_type": "code",
   "execution_count": 1,
   "metadata": {},
   "outputs": [],
   "source": [
    "import torch\n",
    "import torch.nn as nn\n",
    "import torch.nn.functional as F\n",
    "\n",
    "from tqdm import tqdm"
   ]
  },
  {
   "cell_type": "code",
   "execution_count": 7,
   "metadata": {},
   "outputs": [],
   "source": [
    "# test using a knn monitor\n",
    "def knn_monitor(net, memory_data_loader, test_data_loader, device='cuda', k=200, t=0.1, targets=None):\n",
    "    if not targets:\n",
    "        targets = memory_data_loader.dataset.targets\n",
    "    net.eval()\n",
    "    classes = len(memory_data_loader.dataset.classes)\n",
    "    total_top1, total_top5, total_num, feature_bank = 0.0, 0.0, 0, []\n",
    "    with torch.no_grad():\n",
    "        # generate feature bank\n",
    "        for data, target in tqdm(memory_data_loader):\n",
    "            _, feature = net(data.to(device=device, non_blocking=True))\n",
    "            feature = F.normalize(feature, dim=1)\n",
    "            feature_bank.append(feature)\n",
    "        # [D, N]\n",
    "        feature_bank = torch.cat(feature_bank, dim=0).t().contiguous()\n",
    "        # [N]\n",
    "        feature_labels = torch.tensor(targets, device=feature_bank.device)\n",
    "        # loop test data to predict the label by weighted knn search\n",
    "        for data, target in tqdm(test_data_loader):\n",
    "            data, target = data.to(device=device, non_blocking=True), target.to(device=device, non_blocking=True)\n",
    "            _, feature = net(data)\n",
    "            feature = F.normalize(feature, dim=1)\n",
    "\n",
    "            pred_labels = knn_predict(feature, feature_bank, feature_labels, classes, k, t)\n",
    "            \n",
    "            total_num += data.size(0)\n",
    "\n",
    "            total_top1 += (pred_labels[:, 0] == target).float().sum().item()\n",
    "    return total_top1 / total_num * 100\n",
    "\n",
    "\n",
    "# knn monitor as in InstDisc https://arxiv.org/abs/1805.01978\n",
    "# implementation follows http://github.com/zhirongw/lemniscate.pytorch and https://github.com/leftthomas/SimCLR\n",
    "def knn_predict(feature, feature_bank, feature_labels, classes, knn_k, knn_t):\n",
    "    \"\"\"\n",
    "    feature and feature_bank are normalized\n",
    "    \"\"\"\n",
    "    # compute cos similarity between each feature vector and feature bank ---> [B, N]\n",
    "    sim_matrix = torch.mm(feature, feature_bank)\n",
    "    \n",
    "    # [B, K]\n",
    "    sim_weight, sim_indices = sim_matrix.topk(k=knn_k, dim=-1)\n",
    "    # [B, K]\n",
    "    sim_labels = torch.gather(feature_labels.expand(feature.size(0), -1), dim=-1, index=sim_indices)\n",
    "    sim_weight = (sim_weight / knn_t).exp()\n",
    "    \n",
    "    # counts for each class\n",
    "    one_hot_label = torch.zeros(feature.size(0) * knn_k, classes, device=sim_labels.device)\n",
    "    # [B*K, C]\n",
    "    one_hot_label = one_hot_label.scatter(dim=-1, index=sim_labels.view(-1, 1), value=1.0)\n",
    "    # print(one_hot_label)\n",
    "    # weighted score ---> [B, C]\n",
    "    pred_scores = torch.sum(one_hot_label.view(feature.size(0), -1, classes) * sim_weight.unsqueeze(dim=-1), dim=1)\n",
    "    pred_labels = pred_scores.argsort(dim=-1, descending=True)\n",
    "    return pred_labels"
   ]
  },
  {
   "cell_type": "code",
   "execution_count": 8,
   "metadata": {},
   "outputs": [
    {
     "name": "stdout",
     "output_type": "stream",
     "text": [
      "Files already downloaded and verified\n",
      "Files already downloaded and verified\n"
     ]
    },
    {
     "name": "stderr",
     "output_type": "stream",
     "text": [
      "/home/nazim/.local/lib/python3.10/site-packages/torchvision/models/_utils.py:208: UserWarning: The parameter 'pretrained' is deprecated since 0.13 and may be removed in the future, please use 'weights' instead.\n",
      "  warnings.warn(\n",
      "/home/nazim/.local/lib/python3.10/site-packages/torchvision/models/_utils.py:223: UserWarning: Arguments other than a weight enum or `None` for 'weights' are deprecated since 0.13 and may be removed in the future. The current behavior is equivalent to passing `weights=ResNet50_Weights.IMAGENET1K_V1`. You can also use `weights=ResNet50_Weights.DEFAULT` to get the most up-to-date weights.\n",
      "  warnings.warn(msg)\n"
     ]
    }
   ],
   "source": [
    "import torchvision\n",
    "from torchvision import transforms\n",
    "from torch.utils.data import  DataLoader\n",
    "from tqdm import tqdm\n",
    "\n",
    "\n",
    "linear_eval_train_transform = transforms.Compose([\n",
    "    transforms.RandomResizedCrop(32),\n",
    "    transforms.RandomHorizontalFlip(p=0.5),\n",
    "    transforms.RandomApply([transforms.ColorJitter(0.4, 0.4, 0.4, 0.1)], p=0.8),\n",
    "    transforms.RandomGrayscale(p=0.2),\n",
    "    transforms.RandomApply([transforms.GaussianBlur(kernel_size=3, sigma=(0.1, 2))], p=0.5),\n",
    "    transforms.ToTensor(),\n",
    "    transforms.Normalize([0.4914, 0.4822, 0.4465], [0.2023, 0.1994, 0.2010])])\n",
    "\n",
    "linear_eval_test_transform = transforms.Compose([\n",
    "    transforms.ToTensor(),\n",
    "    transforms.Normalize([0.4914, 0.4822, 0.4465], [0.2023, 0.1994, 0.2010])])\n",
    "\n",
    "linear_eval_train_dataset = torchvision.datasets.CIFAR10(root='dataset', train=True, download=True, transform=linear_eval_test_transform)\n",
    "linear_eval_test_dataset = torchvision.datasets.CIFAR10(root='dataset', train=False, download=True, transform=linear_eval_test_transform)\n",
    "\n",
    "\n",
    "train_loader = DataLoader(linear_eval_train_dataset, batch_size=1024, shuffle=True)\n",
    "test_loader = DataLoader(linear_eval_test_dataset, batch_size=1024, shuffle=False)\n",
    "\n",
    "from utils.networks import build_resnet50\n",
    "encoder = build_resnet50()\n",
    "# encoder.load_state_dict(torch.load('params_/best_encoder.pt', map_location='cpu'))\n",
    "encoder = encoder.cuda()"
   ]
  },
  {
   "cell_type": "code",
   "execution_count": 10,
   "metadata": {},
   "outputs": [],
   "source": [
    "def knn_evaluation(encoder):\n",
    "    \n",
    "    simple_transform = transforms.Compose([\n",
    "        transforms.ToTensor(),\n",
    "        transforms.Normalize([0.4914, 0.4822, 0.4465], [0.2023, 0.1994, 0.2010])\n",
    "    ])\n",
    "\n",
    "    linear_eval_train_dataset = torchvision.datasets.CIFAR10(root='dataset', train=True,  download=True, transform=simple_transform)\n",
    "    linear_eval_test_dataset  = torchvision.datasets.CIFAR10(root='dataset', train=False, download=True, transform=simple_transform)\n",
    "\n",
    "    train_loader = DataLoader(linear_eval_train_dataset, batch_size=1024, shuffle=True)\n",
    "    test_loader = DataLoader(linear_eval_test_dataset, batch_size=1024, shuffle=False)\n",
    "    \n",
    "    acc = knn_monitor(\n",
    "        encoder,\n",
    "        train_loader,\n",
    "        test_loader,\n",
    "    )\n",
    "    \n",
    "    return acc"
   ]
  },
  {
   "cell_type": "code",
   "execution_count": 11,
   "metadata": {},
   "outputs": [
    {
     "name": "stdout",
     "output_type": "stream",
     "text": [
      "Files already downloaded and verified\n",
      "Files already downloaded and verified\n"
     ]
    },
    {
     "name": "stderr",
     "output_type": "stream",
     "text": [
      "100%|██████████| 49/49 [00:48<00:00,  1.02it/s]\n",
      "  0%|          | 0/10 [00:00<?, ?it/s]"
     ]
    },
    {
     "name": "stdout",
     "output_type": "stream",
     "text": [
      "torch.Size([1024, 50000]) "
     ]
    },
    {
     "name": "stderr",
     "output_type": "stream",
     "text": [
      " 10%|█         | 1/10 [00:01<00:10,  1.12s/it]"
     ]
    },
    {
     "name": "stdout",
     "output_type": "stream",
     "text": [
      "tensor(0.4145, device='cuda:0') tensor(0.9953, device='cuda:0')\n",
      "tensor([2, 7, 3,  ..., 8, 4, 9], device='cuda:0')\n",
      "tensor([3, 8, 8,  ..., 1, 0, 0], device='cuda:0')\n",
      "torch.Size([1024, 50000]) "
     ]
    },
    {
     "name": "stderr",
     "output_type": "stream",
     "text": [
      " 20%|██        | 2/10 [00:02<00:09,  1.14s/it]"
     ]
    },
    {
     "name": "stdout",
     "output_type": "stream",
     "text": [
      "tensor(0.4269, device='cuda:0') tensor(0.9931, device='cuda:0')\n",
      "tensor([6, 8, 7,  ..., 7, 9, 0], device='cuda:0')\n",
      "tensor([3, 5, 0,  ..., 1, 3, 5], device='cuda:0')\n",
      "torch.Size([1024, 50000]) "
     ]
    },
    {
     "name": "stderr",
     "output_type": "stream",
     "text": [
      " 30%|███       | 3/10 [00:03<00:07,  1.14s/it]"
     ]
    },
    {
     "name": "stdout",
     "output_type": "stream",
     "text": [
      "tensor(0.4350, device='cuda:0') tensor(0.9967, device='cuda:0')\n",
      "tensor([2, 7, 9,  ..., 6, 7, 9], device='cuda:0')\n",
      "tensor([8, 3, 8,  ..., 4, 0, 7], device='cuda:0')\n",
      "torch.Size([1024, 50000]) "
     ]
    },
    {
     "name": "stderr",
     "output_type": "stream",
     "text": [
      " 40%|████      | 4/10 [00:04<00:06,  1.14s/it]"
     ]
    },
    {
     "name": "stdout",
     "output_type": "stream",
     "text": [
      "tensor(0.4117, device='cuda:0') tensor(0.9969, device='cuda:0')\n",
      "tensor([6, 0, 7,  ..., 0, 8, 4], device='cuda:0')\n",
      "tensor([8, 3, 1,  ..., 3, 3, 8], device='cuda:0')\n",
      "torch.Size([1024, 50000]) "
     ]
    },
    {
     "name": "stderr",
     "output_type": "stream",
     "text": [
      " 50%|█████     | 5/10 [00:05<00:05,  1.14s/it]"
     ]
    },
    {
     "name": "stdout",
     "output_type": "stream",
     "text": [
      "tensor(0.4539, device='cuda:0') tensor(0.9937, device='cuda:0')\n",
      "tensor([3, 9, 0,  ..., 4, 3, 8], device='cuda:0')\n",
      "tensor([8, 3, 9,  ..., 7, 2, 5], device='cuda:0')\n",
      "torch.Size([1024, 50000]) "
     ]
    },
    {
     "name": "stderr",
     "output_type": "stream",
     "text": [
      " 60%|██████    | 6/10 [00:06<00:04,  1.14s/it]"
     ]
    },
    {
     "name": "stdout",
     "output_type": "stream",
     "text": [
      "tensor(0.4286, device='cuda:0') tensor(0.9969, device='cuda:0')\n",
      "tensor([8, 8, 9,  ..., 6, 7, 2], device='cuda:0')\n",
      "tensor([9, 6, 6,  ..., 8, 5, 9], device='cuda:0')\n",
      "torch.Size([1024, 50000]) "
     ]
    },
    {
     "name": "stderr",
     "output_type": "stream",
     "text": [
      " 70%|███████   | 7/10 [00:07<00:03,  1.14s/it]"
     ]
    },
    {
     "name": "stdout",
     "output_type": "stream",
     "text": [
      "tensor(0.4189, device='cuda:0') tensor(0.9962, device='cuda:0')\n",
      "tensor([7, 5, 2,  ..., 9, 8, 8], device='cuda:0')\n",
      "tensor([7, 2, 0,  ..., 0, 1, 7], device='cuda:0')\n",
      "torch.Size([1024, 50000]) "
     ]
    },
    {
     "name": "stderr",
     "output_type": "stream",
     "text": [
      " 80%|████████  | 8/10 [00:09<00:02,  1.14s/it]"
     ]
    },
    {
     "name": "stdout",
     "output_type": "stream",
     "text": [
      "tensor(0.4237, device='cuda:0') tensor(0.9946, device='cuda:0')\n",
      "tensor([7, 3, 3,  ..., 8, 1, 2], device='cuda:0')\n",
      "tensor([5, 1, 9,  ..., 8, 4, 6], device='cuda:0')\n",
      "torch.Size([1024, 50000]) "
     ]
    },
    {
     "name": "stderr",
     "output_type": "stream",
     "text": [
      " 90%|█████████ | 9/10 [00:10<00:01,  1.13s/it]"
     ]
    },
    {
     "name": "stdout",
     "output_type": "stream",
     "text": [
      "tensor(0.4480, device='cuda:0') tensor(0.9972, device='cuda:0')\n",
      "tensor([2, 1, 7,  ..., 1, 9, 5], device='cuda:0')\n",
      "tensor([5, 3, 1,  ..., 2, 9, 5], device='cuda:0')\n",
      "torch.Size([784, 50000]) "
     ]
    },
    {
     "name": "stderr",
     "output_type": "stream",
     "text": [
      "100%|██████████| 10/10 [00:11<00:00,  1.11s/it]"
     ]
    },
    {
     "name": "stdout",
     "output_type": "stream",
     "text": [
      "tensor(0.4283, device='cuda:0') tensor(0.9969, device='cuda:0')\n",
      "tensor([2, 8, 3, 7, 3, 8, 4, 6, 3, 1, 7, 5, 4, 9, 3, 4, 5, 8, 6, 5, 4, 4, 6, 4,\n",
      "        5, 8, 3, 3, 7, 8, 7, 2, 7, 3, 9, 4, 3, 8, 9, 5, 3, 7, 4, 7, 0, 0, 1, 4,\n",
      "        5, 9, 0, 3, 2, 8, 4, 0, 6, 0, 6, 0, 0, 6, 8, 7, 0, 1, 8, 9, 5, 8, 3, 1,\n",
      "        4, 9, 3, 2, 6, 6, 5, 9, 6, 8, 0, 8, 5, 7, 5, 8, 7, 0, 1, 2, 1, 5, 1, 2,\n",
      "        4, 5, 6, 1, 7, 9, 0, 6, 7, 4, 1, 5, 1, 9, 6, 6, 2, 3, 1, 2, 6, 9, 9, 9,\n",
      "        4, 8, 1, 4, 3, 7, 9, 7, 0, 9, 7, 0, 6, 5, 7, 8, 2, 2, 4, 8, 8, 8, 3, 7,\n",
      "        8, 0, 4, 0, 0, 9, 5, 7, 4, 7, 5, 0, 5, 4, 3, 5, 9, 3, 0, 7, 5, 8, 3, 1,\n",
      "        0, 0, 5, 8, 8, 8, 2, 4, 8, 2, 9, 5, 9, 4, 7, 7, 2, 6, 8, 9, 3, 5, 7, 4,\n",
      "        7, 4, 9, 5, 8, 0, 7, 7, 0, 8, 6, 2, 4, 3, 0, 0, 5, 6, 6, 3, 2, 0, 1, 0,\n",
      "        4, 3, 5, 8, 6, 7, 1, 0, 8, 1, 8, 2, 5, 4, 5, 4, 0, 8, 8, 1, 3, 7, 4, 7,\n",
      "        8, 8, 1, 7, 9, 6, 7, 2, 9, 3, 2, 4, 3, 5, 8, 8, 5, 0, 7, 8, 5, 2, 7, 7,\n",
      "        4, 7, 4, 9, 1, 5, 9, 5, 0, 7, 3, 7, 9, 9, 5, 2, 5, 1, 5, 8, 2, 3, 7, 7,\n",
      "        0, 5, 7, 2, 3, 7, 4, 0, 9, 1, 3, 5, 7, 2, 9, 8, 3, 6, 7, 3, 7, 4, 5, 5,\n",
      "        9, 8, 5, 1, 2, 9, 5, 0, 1, 5, 1, 5, 1, 5, 7, 8, 6, 4, 4, 5, 9, 3, 6, 9,\n",
      "        0, 0, 1, 7, 8, 2, 0, 8, 6, 6, 7, 1, 7, 9, 7, 4, 3, 7, 2, 7, 2, 0, 6, 2,\n",
      "        5, 9, 1, 9, 4, 6, 5, 6, 3, 9, 3, 6, 9, 8, 3, 7, 4, 8, 0, 6, 5, 1, 9, 4,\n",
      "        6, 3, 4, 8, 8, 2, 3, 7, 3, 0, 2, 4, 0, 7, 6, 4, 2, 1, 4, 2, 4, 7, 7, 6,\n",
      "        1, 0, 9, 0, 1, 8, 6, 3, 8, 6, 4, 4, 2, 1, 7, 0, 5, 3, 5, 4, 9, 4, 7, 6,\n",
      "        4, 6, 3, 7, 5, 1, 1, 4, 5, 1, 7, 0, 3, 3, 4, 5, 8, 1, 8, 6, 1, 7, 8, 9,\n",
      "        3, 1, 2, 4, 4, 4, 5, 4, 8, 3, 7, 7, 2, 0, 6, 3, 2, 3, 7, 9, 0, 2, 9, 7,\n",
      "        7, 0, 0, 6, 5, 2, 1, 8, 1, 9, 9, 1, 8, 2, 2, 8, 3, 8, 7, 4, 0, 9, 1, 5,\n",
      "        7, 0, 3, 1, 0, 4, 7, 5, 3, 2, 1, 7, 4, 3, 1, 9, 1, 1, 9, 9, 8, 3, 4, 9,\n",
      "        4, 9, 7, 5, 7, 9, 3, 7, 7, 1, 9, 0, 0, 4, 2, 7, 6, 0, 8, 1, 0, 3, 0, 0,\n",
      "        1, 7, 0, 3, 4, 9, 8, 4, 0, 2, 8, 4, 0, 0, 2, 2, 8, 1, 7, 7, 5, 2, 1, 8,\n",
      "        1, 9, 3, 8, 4, 6, 9, 9, 0, 4, 3, 0, 3, 9, 1, 0, 2, 4, 3, 0, 5, 5, 1, 2,\n",
      "        0, 8, 0, 0, 0, 8, 5, 2, 2, 1, 3, 9, 3, 1, 9, 1, 7, 7, 8, 3, 9, 7, 2, 2,\n",
      "        6, 1, 7, 8, 7, 0, 6, 5, 2, 3, 7, 7, 0, 2, 1, 8, 8, 1, 2, 8, 6, 7, 2, 9,\n",
      "        3, 2, 1, 9, 6, 9, 9, 2, 3, 8, 3, 2, 3, 7, 5, 5, 9, 8, 3, 8, 0, 0, 0, 1,\n",
      "        3, 8, 8, 8, 2, 7, 9, 7, 7, 6, 9, 8, 5, 8, 7, 6, 3, 9, 8, 3, 0, 6, 4, 6,\n",
      "        1, 3, 3, 6, 2, 2, 3, 6, 6, 9, 9, 8, 3, 4, 8, 5, 0, 9, 0, 5, 3, 6, 0, 8,\n",
      "        4, 6, 3, 5, 8, 2, 6, 7, 5, 1, 7, 0, 5, 6, 3, 4, 5, 6, 2, 9, 1, 8, 0, 3,\n",
      "        3, 1, 7, 1, 3, 8, 4, 8, 4, 6, 5, 5, 1, 8, 9, 1, 2, 7, 4, 9, 1, 5, 9, 3,\n",
      "        5, 2, 2, 0, 5, 2, 2, 8, 3, 5, 6, 5, 5, 7, 9, 5], device='cuda:0')\n",
      "tensor([6, 9, 3, 9, 8, 7, 7, 1, 6, 5, 3, 1, 3, 1, 2, 7, 1, 8, 2, 0, 9, 7, 9, 8,\n",
      "        8, 6, 7, 3, 7, 1, 3, 9, 0, 9, 3, 6, 7, 2, 7, 3, 0, 5, 9, 7, 5, 5, 0, 6,\n",
      "        5, 1, 8, 2, 7, 5, 9, 0, 0, 0, 8, 8, 7, 3, 7, 8, 9, 3, 7, 9, 7, 8, 7, 9,\n",
      "        8, 5, 4, 8, 3, 7, 6, 3, 8, 2, 1, 9, 5, 7, 3, 9, 5, 5, 8, 7, 3, 5, 3, 5,\n",
      "        9, 7, 6, 7, 3, 6, 4, 3, 9, 4, 2, 1, 9, 6, 0, 2, 6, 7, 4, 7, 9, 0, 7, 4,\n",
      "        3, 5, 3, 1, 1, 2, 6, 8, 2, 1, 7, 8, 5, 9, 6, 1, 1, 5, 0, 6, 0, 9, 2, 6,\n",
      "        5, 8, 9, 5, 5, 6, 2, 9, 1, 5, 8, 8, 7, 1, 7, 3, 5, 4, 9, 7, 5, 2, 9, 9,\n",
      "        4, 7, 4, 1, 3, 8, 7, 9, 0, 4, 5, 7, 5, 2, 8, 7, 6, 9, 6, 9, 3, 8, 5, 6,\n",
      "        6, 9, 5, 7, 8, 0, 5, 0, 7, 4, 8, 2, 5, 1, 3, 2, 2, 6, 2, 1, 7, 4, 6, 3,\n",
      "        1, 3, 7, 2, 1, 3, 7, 0, 8, 4, 4, 5, 7, 9, 5, 4, 3, 9, 6, 8, 2, 3, 3, 1,\n",
      "        6, 1, 7, 0, 3, 4, 2, 9, 4, 5, 8, 2, 7, 0, 9, 6, 8, 0, 8, 2, 8, 5, 7, 7,\n",
      "        2, 2, 0, 0, 0, 7, 4, 1, 6, 6, 8, 8, 9, 0, 9, 0, 1, 3, 3, 0, 9, 6, 6, 2,\n",
      "        6, 3, 4, 0, 8, 4, 1, 4, 0, 6, 5, 0, 9, 9, 9, 9, 1, 2, 3, 5, 4, 2, 9, 6,\n",
      "        0, 9, 6, 6, 8, 0, 6, 1, 4, 6, 8, 0, 5, 4, 1, 2, 0, 9, 6, 4, 2, 4, 6, 5,\n",
      "        9, 7, 7, 4, 6, 5, 0, 1, 9, 0, 3, 1, 9, 0, 9, 7, 8, 6, 7, 6, 8, 2, 4, 5,\n",
      "        3, 0, 3, 2, 1, 7, 5, 9, 3, 4, 5, 7, 1, 5, 0, 1, 1, 1, 9, 7, 5, 4, 9, 7,\n",
      "        8, 1, 0, 2, 8, 5, 6, 7, 0, 1, 4, 8, 4, 4, 6, 6, 5, 8, 1, 8, 4, 6, 5, 9,\n",
      "        2, 2, 1, 4, 9, 1, 6, 7, 2, 0, 1, 7, 6, 5, 2, 2, 5, 6, 0, 9, 0, 1, 5, 3,\n",
      "        3, 5, 8, 7, 5, 6, 5, 8, 0, 5, 9, 4, 6, 5, 1, 1, 0, 3, 3, 9, 4, 8, 1, 7,\n",
      "        7, 9, 9, 4, 3, 6, 3, 2, 8, 2, 7, 6, 7, 0, 2, 1, 2, 9, 4, 6, 9, 6, 1, 0,\n",
      "        1, 8, 7, 0, 0, 4, 7, 4, 2, 6, 9, 5, 9, 0, 7, 4, 5, 8, 1, 4, 7, 9, 9, 8,\n",
      "        8, 6, 3, 7, 0, 8, 9, 6, 2, 4, 6, 2, 9, 7, 4, 6, 8, 5, 6, 1, 3, 5, 9, 9,\n",
      "        1, 3, 2, 0, 3, 0, 2, 0, 7, 3, 9, 3, 5, 7, 6, 5, 9, 5, 6, 1, 2, 4, 0, 2,\n",
      "        7, 8, 4, 4, 0, 9, 5, 9, 2, 9, 3, 2, 4, 3, 2, 2, 8, 8, 6, 8, 1, 6, 8, 9,\n",
      "        8, 2, 1, 4, 9, 1, 5, 7, 1, 6, 0, 1, 5, 2, 8, 1, 1, 3, 8, 1, 3, 1, 8, 5,\n",
      "        1, 9, 0, 3, 0, 4, 0, 5, 1, 2, 0, 4, 9, 5, 1, 2, 2, 7, 8, 7, 2, 4, 5, 3,\n",
      "        4, 0, 6, 1, 5, 9, 8, 0, 2, 0, 7, 6, 0, 5, 9, 7, 5, 0, 4, 6, 0, 6, 3, 6,\n",
      "        8, 1, 1, 8, 9, 7, 2, 9, 0, 2, 2, 9, 0, 6, 5, 7, 7, 9, 1, 7, 9, 8, 4, 5,\n",
      "        0, 8, 0, 2, 5, 2, 1, 4, 4, 8, 9, 7, 8, 3, 6, 6, 0, 1, 1, 1, 8, 1, 4, 4,\n",
      "        0, 7, 8, 2, 1, 2, 5, 4, 6, 0, 5, 7, 4, 4, 3, 9, 5, 8, 8, 0, 8, 7, 4, 1,\n",
      "        8, 4, 9, 5, 4, 1, 7, 7, 7, 7, 0, 3, 8, 3, 3, 0, 5, 7, 0, 8, 0, 0, 9, 2,\n",
      "        2, 3, 4, 8, 2, 2, 6, 3, 3, 6, 2, 9, 4, 0, 1, 7, 5, 5, 7, 3, 0, 4, 2, 0,\n",
      "        7, 5, 8, 0, 8, 2, 7, 0, 3, 5, 3, 8, 3, 5, 1, 7], device='cuda:0')\n"
     ]
    },
    {
     "name": "stderr",
     "output_type": "stream",
     "text": [
      "\n"
     ]
    },
    {
     "data": {
      "text/plain": [
       "11.12"
      ]
     },
     "execution_count": 11,
     "metadata": {},
     "output_type": "execute_result"
    }
   ],
   "source": [
    "knn_evaluation(encoder)"
   ]
  },
  {
   "cell_type": "code",
   "execution_count": null,
   "metadata": {},
   "outputs": [],
   "source": []
  }
 ],
 "metadata": {
  "kernelspec": {
   "display_name": "Python 3",
   "language": "python",
   "name": "python3"
  },
  "language_info": {
   "codemirror_mode": {
    "name": "ipython",
    "version": 3
   },
   "file_extension": ".py",
   "mimetype": "text/x-python",
   "name": "python",
   "nbconvert_exporter": "python",
   "pygments_lexer": "ipython3",
   "version": "3.10.12"
  }
 },
 "nbformat": 4,
 "nbformat_minor": 2
}
