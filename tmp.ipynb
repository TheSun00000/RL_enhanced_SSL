{
 "cells": [
  {
   "cell_type": "code",
   "execution_count": 1,
   "metadata": {},
   "outputs": [],
   "source": [
    "import os"
   ]
  },
  {
   "cell_type": "code",
   "execution_count": 10,
   "metadata": {},
   "outputs": [],
   "source": [
    "last_save_id = max([int(file_name.split('_')[1]) for file_name in os.listdir('params')])\n",
    "new_save_id = last_save_id + 1"
   ]
  },
  {
   "cell_type": "code",
   "execution_count": 16,
   "metadata": {},
   "outputs": [
    {
     "data": {
      "text/plain": [
       "['iterations=50',\n",
       " 'simclr_iterations=50',\n",
       " 'simclr_bs=256',\n",
       " 'ppo_iterations=100',\n",
       " 'ppo_len_trajectory=2048',\n",
       " 'ppo_collection_bs=1024',\n",
       " 'ppo_update_epochs=4',\n",
       " 'ppo_update_bs=256',\n",
       " 'logs=True']"
      ]
     },
     "execution_count": 16,
     "metadata": {},
     "output_type": "execute_result"
    }
   ],
   "source": [
    "config = {\n",
    "    'iterations':50,\n",
    "    \n",
    "    'simclr_iterations':50,\n",
    "    'simclr_bs':256,\n",
    "    \n",
    "    'ppo_iterations':100,\n",
    "    'ppo_len_trajectory':512*4,\n",
    "    'ppo_collection_bs':512*2,\n",
    "    'ppo_update_epochs':4,\n",
    "    'ppo_update_bs':256,\n",
    "    \n",
    "    'logs':True\n",
    "}\n",
    "\n",
    "[f'{k}={v}' for (k, v) in config.items()]"
   ]
  }
 ],
 "metadata": {
  "kernelspec": {
   "display_name": "Python 3",
   "language": "python",
   "name": "python3"
  },
  "language_info": {
   "codemirror_mode": {
    "name": "ipython",
    "version": 3
   },
   "file_extension": ".py",
   "mimetype": "text/x-python",
   "name": "python",
   "nbconvert_exporter": "python",
   "pygments_lexer": "ipython3",
   "version": "3.10.12"
  }
 },
 "nbformat": 4,
 "nbformat_minor": 2
}
