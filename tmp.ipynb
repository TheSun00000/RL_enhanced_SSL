{
 "cells": [
  {
   "cell_type": "code",
   "execution_count": 1,
   "metadata": {},
   "outputs": [
    {
     "name": "stderr",
     "output_type": "stream",
     "text": [
      "/home/nazim/.local/lib/python3.10/site-packages/tqdm/auto.py:21: TqdmWarning: IProgress not found. Please update jupyter and ipywidgets. See https://ipywidgets.readthedocs.io/en/stable/user_install.html\n",
      "  from .autonotebook import tqdm as notebook_tqdm\n"
     ]
    }
   ],
   "source": [
    "import os\n",
    "import torch\n",
    "from torchvision import datasets\n",
    "from torchvision import transforms\n",
    "\n",
    "from utils.datasets import get_knn_evaluation_loader\n",
    "\n",
    "from utils.networks import SimCLR, DecoderNN_1input, DecoderNN_1input_one_branch, build_resnet18, build_resnet50\n",
    "from utils.transforms import *"
   ]
  },
  {
   "cell_type": "code",
   "execution_count": 4,
   "metadata": {},
   "outputs": [],
   "source": [
    "decoder = DecoderNN_1input(\n",
    "    transforms=list(transformations_dict.keys()),\n",
    "    num_discrete_magnitude=NUM_DISCREATE,\n",
    "    device=device,\n",
    "    use_proba_head=False\n",
    ").cuda()"
   ]
  },
  {
   "cell_type": "code",
   "execution_count": 31,
   "metadata": {},
   "outputs": [],
   "source": [
    "from copy import deepcopy"
   ]
  },
  {
   "cell_type": "code",
   "execution_count": 32,
   "metadata": {},
   "outputs": [],
   "source": []
  },
  {
   "cell_type": "code",
   "execution_count": 120,
   "metadata": {},
   "outputs": [
    {
     "name": "stdout",
     "output_type": "stream",
     "text": [
      "tensor([[ 0, 13,  2,  3,  4,  5,  6,  7, 13,  9, 10, 11, 12,  7, 14, 15],\n",
      "        [ 0,  8,  2,  3,  4,  5,  6,  1,  8,  9, 10, 11, 12,  1, 14, 15]])\n"
     ]
    }
   ],
   "source": [
    "p = 0.25\n",
    "batch_size = 16\n",
    "\n",
    "\n",
    "log_p, actions_index, entropy = decoder(batch_size=batch_size)\n",
    "\n",
    "\n",
    "ids = torch.tensor([ range(batch_size), range(batch_size) ])\n",
    "new_ids = ids.clone()\n",
    "new_action_index = deepcopy(actions_index)\n",
    "\n",
    "if p != 0:\n",
    "    \n",
    "    L = int(batch_size*p)\n",
    "    \n",
    "    # Get random indices of the transformations that are going to be permuted\n",
    "    indices = list(range(batch_size))\n",
    "    random.shuffle(indices)\n",
    "    indices = sorted(indices[:L])\n",
    "    \n",
    "    # print(indices)\n",
    "    \n",
    "    # original transformations indices of format: (branch[0,1], n) \n",
    "    indices_2d = [(0, i) for i in indices] + [(1, i) for i in indices]\n",
    "    \n",
    "    # shuffle  the original transformations indices\n",
    "    new_indices_2d = indices_2d.copy()\n",
    "    random.shuffle(new_indices_2d)\n",
    "    \n",
    "    # Permute the samples\n",
    "    for (i, j), (new_i, new_j) in zip(indices_2d, new_indices_2d):\n",
    "        # print((i, j), (new_i, new_j))\n",
    "        new_ids[i, j] = ids[new_i, new_j]\n",
    "        new_action_index[j][i] = new_action_index[new_j][new_i]\n",
    "\n",
    "\n",
    "print(new_ids)\n",
    "\n",
    "rewards = torch.arange(start=0, end=batch_size).float()"
   ]
  },
  {
   "cell_type": "code",
   "execution_count": 121,
   "metadata": {},
   "outputs": [
    {
     "data": {
      "text/plain": [
       "tensor([ 0.0000, 10.5000,  2.0000,  3.0000,  4.0000,  5.0000,  6.0000,  4.0000,\n",
       "        10.5000,  9.0000, 10.0000, 11.0000, 12.0000,  4.0000, 14.0000, 15.0000])"
      ]
     },
     "execution_count": 121,
     "metadata": {},
     "output_type": "execute_result"
    }
   ],
   "source": [
    "rewards_x = (rewards[new_ids[0]] + rewards[new_ids[1]]) / 2\n",
    "rewards_x"
   ]
  },
  {
   "cell_type": "code",
   "execution_count": 102,
   "metadata": {},
   "outputs": [
    {
     "data": {
      "text/plain": [
       "tensor([ 8.0000,  5.5000,  8.0000,  8.0000,  4.0000,  5.0000,  6.0000,  6.5000,\n",
       "         8.0000,  5.5000, 10.0000,  0.5000, 12.0000,  4.0000, 14.0000, 15.0000])"
      ]
     },
     "execution_count": 102,
     "metadata": {},
     "output_type": "execute_result"
    }
   ],
   "source": []
  },
  {
   "cell_type": "code",
   "execution_count": 94,
   "metadata": {},
   "outputs": [
    {
     "name": "stdout",
     "output_type": "stream",
     "text": [
      "tensor([[ 0,  1,  2,  3,  4,  5,  6,  7,  8,  9, 10, 11, 12, 13, 14, 15],\n",
      "        [ 0,  1,  2,  3,  4,  5,  6,  7,  8,  9, 10, 11, 12, 13, 14, 15]])\n",
      "\n",
      "tensor([[ 0,  1,  2,  3,  4,  5,  6,  7,  8,  9, 10, 11, 12, 13, 14, 15],\n",
      "        [ 0,  1,  2,  3,  4,  5,  6,  7,  8,  9, 10, 11, 12, 13, 14, 15]])\n"
     ]
    }
   ],
   "source": [
    "print(ids)\n",
    "print()\n",
    "print(new_ids)"
   ]
  },
  {
   "cell_type": "code",
   "execution_count": null,
   "metadata": {},
   "outputs": [],
   "source": []
  }
 ],
 "metadata": {
  "kernelspec": {
   "display_name": "Python 3",
   "language": "python",
   "name": "python3"
  },
  "language_info": {
   "codemirror_mode": {
    "name": "ipython",
    "version": 3
   },
   "file_extension": ".py",
   "mimetype": "text/x-python",
   "name": "python",
   "nbconvert_exporter": "python",
   "pygments_lexer": "ipython3",
   "version": "3.10.12"
  }
 },
 "nbformat": 4,
 "nbformat_minor": 2
}
